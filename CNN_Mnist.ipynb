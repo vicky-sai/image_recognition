{
  "nbformat": 4,
  "nbformat_minor": 0,
  "metadata": {
    "colab": {
      "name": "CNN_Mnist.ipynb",
      "provenance": [],
      "collapsed_sections": []
    },
    "kernelspec": {
      "name": "python3",
      "display_name": "Python 3"
    },
    "accelerator": "GPU"
  },
  "cells": [
    {
      "cell_type": "code",
      "metadata": {
        "id": "5tj4eKuEhgqf",
        "colab_type": "code",
        "colab": {}
      },
      "source": [
        "import numpy\n",
        "import cv2\n",
        "from keras.datasets import mnist\n",
        "from keras.models import Sequential\n",
        "from keras.layers import Dense\n",
        "from keras.layers import Dropout\n",
        "from keras.layers import Flatten\n",
        "from keras.layers.convolutional import Conv2D\n",
        "from keras.layers.convolutional import MaxPooling2D\n",
        "from keras.utils import np_utils\n",
        "from keras import backend as K\n",
        "import matplotlib.pyplot as plt"
      ],
      "execution_count": 1,
      "outputs": []
    },
    {
      "cell_type": "code",
      "metadata": {
        "id": "IflV64t7ix4k",
        "colab_type": "code",
        "colab": {}
      },
      "source": [
        "K.set_image_data_format('channels_first')"
      ],
      "execution_count": 2,
      "outputs": []
    },
    {
      "cell_type": "code",
      "metadata": {
        "id": "WRVhGVZ9lM_Z",
        "colab_type": "code",
        "colab": {
          "base_uri": "https://localhost:8080/",
          "height": 51
        },
        "outputId": "9ae2969f-4608-48e6-eba8-e59037dc7c60"
      },
      "source": [
        "(X_train, y_train), (X_test, y_test) = mnist.load_data()"
      ],
      "execution_count": 3,
      "outputs": [
        {
          "output_type": "stream",
          "text": [
            "Downloading data from https://storage.googleapis.com/tensorflow/tf-keras-datasets/mnist.npz\n",
            "11493376/11490434 [==============================] - 1s 0us/step\n"
          ],
          "name": "stdout"
        }
      ]
    },
    {
      "cell_type": "code",
      "metadata": {
        "id": "aingoLSJlMmt",
        "colab_type": "code",
        "colab": {}
      },
      "source": [
        "# Reshape to be samples*pixels*width*height\n",
        "X_train = X_train.reshape(X_train.shape[0], 1, 28, 28).astype('float32')\n",
        "X_test = X_test.reshape(X_test.shape[0], 1, 28, 28).astype('float32')"
      ],
      "execution_count": 4,
      "outputs": []
    },
    {
      "cell_type": "code",
      "metadata": {
        "id": "s7T0PF6wlLmo",
        "colab_type": "code",
        "colab": {}
      },
      "source": [
        "# Normalize inputs from 0-255 to 0-1\n",
        "X_train = X_train / 255\n",
        "X_test = X_test / 255"
      ],
      "execution_count": 5,
      "outputs": []
    },
    {
      "cell_type": "code",
      "metadata": {
        "id": "mnAIhZNEkhEt",
        "colab_type": "code",
        "colab": {}
      },
      "source": [
        "# One Hot encode outputs\n",
        "y_train = np_utils.to_categorical(y_train)\n",
        "y_test = np_utils.to_categorical(y_test)\n",
        "num_classes = y_test.shape[1]"
      ],
      "execution_count": 6,
      "outputs": []
    },
    {
      "cell_type": "code",
      "metadata": {
        "id": "Til7ZJMOmEND",
        "colab_type": "code",
        "colab": {}
      },
      "source": [
        "K.clear_session()"
      ],
      "execution_count": 7,
      "outputs": []
    },
    {
      "cell_type": "code",
      "metadata": {
        "id": "zHKzKb0AljUx",
        "colab_type": "code",
        "colab": {}
      },
      "source": [
        "# Create model\n",
        "def build_keras_model():\n",
        "    K.clear_session()\n",
        "    \n",
        "    model = Sequential()\n",
        "    model.add(Conv2D(32, (5, 5), input_shape=(1, 28, 28), activation='relu'))\n",
        "    model.add(MaxPooling2D(pool_size=(2, 2)))\n",
        "    model.add(Conv2D(16, (3, 3), activation='relu'))\n",
        "    model.add(MaxPooling2D(pool_size=(2, 2)))\n",
        "    model.add(Dropout(0.2))\n",
        "    model.add(Flatten())\n",
        "    model.add(Dense(128, activation='relu'))\n",
        "    model.add(Dense(64, activation='relu'))\n",
        "    model.add(Dense(num_classes, activation='softmax'))\n",
        "\n",
        "    model.compile(loss='categorical_crossentropy', optimizer='adam', metrics=['accuracy'])\n",
        "    return model"
      ],
      "execution_count": 8,
      "outputs": []
    },
    {
      "cell_type": "code",
      "metadata": {
        "id": "1o2OdfvvmYFe",
        "colab_type": "code",
        "colab": {
          "base_uri": "https://localhost:8080/",
          "height": 476
        },
        "outputId": "62a57fe3-f741-44db-dc50-a60d28d116bb"
      },
      "source": [
        "kr_model = build_keras_model()\n",
        "print(kr_model.summary())"
      ],
      "execution_count": 9,
      "outputs": [
        {
          "output_type": "stream",
          "text": [
            "Model: \"sequential\"\n",
            "_________________________________________________________________\n",
            "Layer (type)                 Output Shape              Param #   \n",
            "=================================================================\n",
            "conv2d (Conv2D)              (None, 32, 24, 24)        832       \n",
            "_________________________________________________________________\n",
            "max_pooling2d (MaxPooling2D) (None, 32, 12, 12)        0         \n",
            "_________________________________________________________________\n",
            "conv2d_1 (Conv2D)            (None, 16, 10, 10)        4624      \n",
            "_________________________________________________________________\n",
            "max_pooling2d_1 (MaxPooling2 (None, 16, 5, 5)          0         \n",
            "_________________________________________________________________\n",
            "dropout (Dropout)            (None, 16, 5, 5)          0         \n",
            "_________________________________________________________________\n",
            "flatten (Flatten)            (None, 400)               0         \n",
            "_________________________________________________________________\n",
            "dense (Dense)                (None, 128)               51328     \n",
            "_________________________________________________________________\n",
            "dense_1 (Dense)              (None, 64)                8256      \n",
            "_________________________________________________________________\n",
            "dense_2 (Dense)              (None, 10)                650       \n",
            "=================================================================\n",
            "Total params: 65,690\n",
            "Trainable params: 65,690\n",
            "Non-trainable params: 0\n",
            "_________________________________________________________________\n",
            "None\n"
          ],
          "name": "stdout"
        }
      ]
    },
    {
      "cell_type": "code",
      "metadata": {
        "id": "TMgc_JxqnvKf",
        "colab_type": "code",
        "colab": {
          "base_uri": "https://localhost:8080/",
          "height": 612
        },
        "outputId": "92171af3-fbc9-4b68-cfc7-9314228096e5"
      },
      "source": [
        "kr_model.fit(X_train, y_train, validation_data=(X_test, y_test), epochs=17, batch_size=200)"
      ],
      "execution_count": 11,
      "outputs": [
        {
          "output_type": "stream",
          "text": [
            "Epoch 1/17\n",
            "300/300 [==============================] - 2s 8ms/step - loss: 0.0818 - accuracy: 0.9747 - val_loss: 0.0462 - val_accuracy: 0.9844\n",
            "Epoch 2/17\n",
            "300/300 [==============================] - 2s 7ms/step - loss: 0.0631 - accuracy: 0.9808 - val_loss: 0.0404 - val_accuracy: 0.9869\n",
            "Epoch 3/17\n",
            "300/300 [==============================] - 2s 7ms/step - loss: 0.0520 - accuracy: 0.9835 - val_loss: 0.0300 - val_accuracy: 0.9907\n",
            "Epoch 4/17\n",
            "300/300 [==============================] - 2s 7ms/step - loss: 0.0441 - accuracy: 0.9860 - val_loss: 0.0325 - val_accuracy: 0.9903\n",
            "Epoch 5/17\n",
            "300/300 [==============================] - 2s 7ms/step - loss: 0.0400 - accuracy: 0.9875 - val_loss: 0.0260 - val_accuracy: 0.9913\n",
            "Epoch 6/17\n",
            "300/300 [==============================] - 2s 7ms/step - loss: 0.0365 - accuracy: 0.9887 - val_loss: 0.0287 - val_accuracy: 0.9915\n",
            "Epoch 7/17\n",
            "300/300 [==============================] - 2s 7ms/step - loss: 0.0346 - accuracy: 0.9891 - val_loss: 0.0257 - val_accuracy: 0.9923\n",
            "Epoch 8/17\n",
            "300/300 [==============================] - 2s 7ms/step - loss: 0.0310 - accuracy: 0.9901 - val_loss: 0.0220 - val_accuracy: 0.9930\n",
            "Epoch 9/17\n",
            "300/300 [==============================] - 2s 7ms/step - loss: 0.0287 - accuracy: 0.9905 - val_loss: 0.0229 - val_accuracy: 0.9922\n",
            "Epoch 10/17\n",
            "300/300 [==============================] - 2s 7ms/step - loss: 0.0250 - accuracy: 0.9919 - val_loss: 0.0273 - val_accuracy: 0.9914\n",
            "Epoch 11/17\n",
            "300/300 [==============================] - 2s 7ms/step - loss: 0.0251 - accuracy: 0.9916 - val_loss: 0.0217 - val_accuracy: 0.9929\n",
            "Epoch 12/17\n",
            "300/300 [==============================] - 2s 7ms/step - loss: 0.0235 - accuracy: 0.9924 - val_loss: 0.0239 - val_accuracy: 0.9924\n",
            "Epoch 13/17\n",
            "300/300 [==============================] - 2s 7ms/step - loss: 0.0212 - accuracy: 0.9929 - val_loss: 0.0253 - val_accuracy: 0.9922\n",
            "Epoch 14/17\n",
            "300/300 [==============================] - 2s 7ms/step - loss: 0.0204 - accuracy: 0.9934 - val_loss: 0.0225 - val_accuracy: 0.9931\n",
            "Epoch 15/17\n",
            "300/300 [==============================] - 2s 7ms/step - loss: 0.0190 - accuracy: 0.9934 - val_loss: 0.0233 - val_accuracy: 0.9926\n",
            "Epoch 16/17\n",
            "300/300 [==============================] - 2s 7ms/step - loss: 0.0162 - accuracy: 0.9948 - val_loss: 0.0225 - val_accuracy: 0.9935\n",
            "Epoch 17/17\n",
            "300/300 [==============================] - 2s 7ms/step - loss: 0.0159 - accuracy: 0.9942 - val_loss: 0.0224 - val_accuracy: 0.9930\n"
          ],
          "name": "stdout"
        },
        {
          "output_type": "execute_result",
          "data": {
            "text/plain": [
              "<tensorflow.python.keras.callbacks.History at 0x7f7d044ccf60>"
            ]
          },
          "metadata": {
            "tags": []
          },
          "execution_count": 11
        }
      ]
    },
    {
      "cell_type": "code",
      "metadata": {
        "id": "WxiMxMT-ojDm",
        "colab_type": "code",
        "colab": {
          "base_uri": "https://localhost:8080/",
          "height": 34
        },
        "outputId": "b873517c-7aca-42ab-ccad-afcf62f3c519"
      },
      "source": [
        "# Final evaluation of the model\n",
        "scores = kr_model.evaluate(X_test, y_test, verbose=0)\n",
        "print(\"Large CNN Error: %.2f%%\" % (100-scores[1]*100))"
      ],
      "execution_count": 13,
      "outputs": [
        {
          "output_type": "stream",
          "text": [
            "Large CNN Error: 0.70%\n"
          ],
          "name": "stdout"
        }
      ]
    },
    {
      "cell_type": "code",
      "metadata": {
        "id": "6lg5sXJOqBZn",
        "colab_type": "code",
        "colab": {
          "base_uri": "https://localhost:8080/",
          "height": 139
        },
        "outputId": "65f2c6a9-5958-4b79-b2d1-332cfa5ced38"
      },
      "source": [
        "# evaluate performance against train/cross-val & test data\n",
        "print('Evaluating performance of Keras model:')\n",
        "loss, acc = kr_model.evaluate(X_train, y_train, batch_size=200)\n",
        "print(' - Training dataset: loss = {:.4f}, accuracy = {:.4f}'.format(loss, acc))\n",
        "\n",
        "loss, acc = kr_model.evaluate(X_test, y_test, batch_size=200)\n",
        "print(' - Test dataset: loss = {:.4f}, accuracy = {:.4f}'.format(loss, acc))"
      ],
      "execution_count": 15,
      "outputs": [
        {
          "output_type": "stream",
          "text": [
            "Evaluating performance of Keras model:\n",
            "  1/300 [..............................] - ETA: 0s - loss: 0.0057 - accuracy: 0.9950WARNING:tensorflow:Callbacks method `on_test_batch_end` is slow compared to the batch time (batch time: 0.0020s vs `on_test_batch_end` time: 0.0039s). Check your callbacks.\n",
            "300/300 [==============================] - 1s 4ms/step - loss: 0.0053 - accuracy: 0.9983\n",
            " - Training dataset: loss = 0.0053, accuracy = 0.9983\n",
            "50/50 [==============================] - 0s 4ms/step - loss: 0.0224 - accuracy: 0.9930\n",
            " - Test dataset: loss = 0.0224, accuracy = 0.9930\n"
          ],
          "name": "stdout"
        }
      ]
    },
    {
      "cell_type": "code",
      "metadata": {
        "id": "G2IaaTmFqQtI",
        "colab_type": "code",
        "colab": {
          "base_uri": "https://localhost:8080/",
          "height": 105
        },
        "outputId": "222e461c-7de5-46e3-944c-4d37d2a34fe9"
      },
      "source": [
        "#TEST single image\n",
        "image = (X_test[1]).reshape(1,1,28,28) # 1->'2'    \n",
        "model_pred = kr_model.predict_classes(image, verbose = 0)\n",
        "print('Prediction of model: {}'.format(model_pred[0]))"
      ],
      "execution_count": 17,
      "outputs": [
        {
          "output_type": "stream",
          "text": [
            "WARNING:tensorflow:From <ipython-input-17-0b25d33b1ac9>:3: Sequential.predict_classes (from tensorflow.python.keras.engine.sequential) is deprecated and will be removed after 2021-01-01.\n",
            "Instructions for updating:\n",
            "Please use instead:* `np.argmax(model.predict(x), axis=-1)`,   if your model does multi-class classification   (e.g. if it uses a `softmax` last-layer activation).* `(model.predict(x) > 0.5).astype(\"int32\")`,   if your model does binary classification   (e.g. if it uses a `sigmoid` last-layer activation).\n",
            "Prediction of model: 2\n"
          ],
          "name": "stdout"
        }
      ]
    },
    {
      "cell_type": "code",
      "metadata": {
        "id": "4wcxVrq-qfdh",
        "colab_type": "code",
        "colab": {
          "base_uri": "https://localhost:8080/",
          "height": 34
        },
        "outputId": "6323fe88-12b4-465c-c36e-d2a799a94207"
      },
      "source": [
        "#TESTING multiple image\n",
        "test_images = X_test[1:5]\n",
        "test_images = test_images.reshape(test_images.shape[0], 28, 28)\n",
        "print (\"Test images shape: {}\".format(test_images.shape))"
      ],
      "execution_count": 18,
      "outputs": [
        {
          "output_type": "stream",
          "text": [
            "Test images shape: (4, 28, 28)\n"
          ],
          "name": "stdout"
        }
      ]
    },
    {
      "cell_type": "code",
      "metadata": {
        "id": "fZstepdYqy5T",
        "colab_type": "code",
        "colab": {
          "base_uri": "https://localhost:8080/",
          "height": 332
        },
        "outputId": "64faeb01-dfd5-4230-f71b-07d53b2869f5"
      },
      "source": [
        "for i, test_image in enumerate(test_images, start=1):\n",
        "    org_image = test_image\n",
        "    test_image = test_image.reshape(1,1,28,28)\n",
        "    prediction = kr_model.predict_classes(test_image, verbose=0)\n",
        "\n",
        "    print (\"Predicted digit: {}\".format(prediction[0]))\n",
        "    plt.subplot(220+i)\n",
        "    plt.axis('off')\n",
        "    plt.title(\"Predicted digit: {}\".format(prediction[0]))\n",
        "    plt.imshow(org_image, cmap=plt.get_cmap('gray'))\n",
        "\n",
        "plt.show()"
      ],
      "execution_count": 21,
      "outputs": [
        {
          "output_type": "stream",
          "text": [
            "Predicted digit: 2\n",
            "Predicted digit: 1\n",
            "Predicted digit: 0\n",
            "Predicted digit: 4\n"
          ],
          "name": "stdout"
        },
        {
          "output_type": "display_data",
          "data": {
            "image/png": "[encoded data removed]",
            "text/plain": [
              "<Figure size 432x288 with 4 Axes>"
            ]
          },
          "metadata": {
            "tags": [],
            "needs_background": "light"
          }
        }
      ]
    },
    {
      "cell_type": "code",
      "metadata": {
        "id": "KxMrLqzTqz40",
        "colab_type": "code",
        "colab": {
          "base_uri": "https://localhost:8080/",
          "height": 34
        },
        "outputId": "5f2aa99d-6c27-44a1-f930-e9a4074e2d06"
      },
      "source": [
        "#SAVE THE MODEL\n",
        "\n",
        "# serialize model to JSON\n",
        "model_json = kr_model.to_json()\n",
        "with open(\"model.json\", \"w\") as json_file:\n",
        "    json_file.write(model_json)\n",
        "# serialize weights to HDF5\n",
        "kr_model.save_weights(\"model.h5\")\n",
        "print(\"Saved model to disk\")"
      ],
      "execution_count": 24,
      "outputs": [
        {
          "output_type": "stream",
          "text": [
            "Saved model to disk\n"
          ],
          "name": "stdout"
        }
      ]
    },
    {
      "cell_type": "code",
      "metadata": {
        "id": "AVxGOH5rrCCY",
        "colab_type": "code",
        "colab": {}
      },
      "source": [
        ""
      ],
      "execution_count": null,
      "outputs": []
    }
  ]
}